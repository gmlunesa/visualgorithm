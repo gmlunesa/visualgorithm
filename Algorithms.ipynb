{
 "cells": [
  {
   "cell_type": "markdown",
   "metadata": {},
   "source": [
    "# visualgorithm: a sorting machine problem\n",
    "---\n",
    "*submitted by Goldy Mariz Lunesa || [@gmlunesa](https://github.com/gmlunesa)*\n"
   ]
  },
  {
   "cell_type": "markdown",
   "metadata": {},
   "source": [
    "### Miscellaneous functions"
   ]
  },
  {
   "cell_type": "code",
   "execution_count": 6,
   "metadata": {
    "collapsed": true
   },
   "outputs": [],
   "source": [
    "import math\n",
    "\n",
    "def initArrays():\n",
    "    with open('on2bestcase.txt') as file_bc:\n",
    "        bestCaseArray = []\n",
    "        for line in file_bc:\n",
    "            bestCaseArray.append(int(line))\n",
    "        \n",
    "    with open('on2worstcase.txt') as file_wc:\n",
    "        worstCaseArray = []\n",
    "        for line in file_wc:\n",
    "            worstCaseArray.append(int(line))\n",
    "\n",
    "    with open('on2avgcase.txt') as file_ac:\n",
    "        avgCaseArray = []\n",
    "        for line in file_ac:\n",
    "            avgCaseArray.append(int(line))\n",
    "            \n",
    "    with open('reverse1000.txt') as file_r1000:\n",
    "        reverse1000 = []\n",
    "        for line in file_r1000:\n",
    "            reverse1000.append(int(line))\n",
    "            \n",
    "    with open('sorted1000.txt') as file_s1000:\n",
    "        sorted1000 = []\n",
    "        for line in file_s1000:\n",
    "            sorted1000.append(int(line))\n",
    "            \n",
    "    with open('random1000.txt') as file_rn1000:\n",
    "        random1000 = []\n",
    "        for line in file_rn1000:\n",
    "            random1000.append(int(line))\n",
    "            \n",
    "    with open('randomorg300.txt') as file_ro300:\n",
    "        ro300 = []\n",
    "        for line in file_ro300:\n",
    "            ro300.append(int(line))\n",
    "            \n",
    "    with open('random300skewed.txt') as file_r300s:\n",
    "        r300s = []\n",
    "        for line in file_r300s:\n",
    "            r300s.append(int(line))\n",
    "            \n",
    "    with open('random300dist.txt') as file_r300d:\n",
    "        r300d = []\n",
    "        for line in file_r300d:\n",
    "            r300d.append(int(line))\n",
    "            \n",
    "    return bestCaseArray, worstCaseArray, avgCaseArray, reverse1000, sorted1000, random1000, ro300, r300s, r300d\n",
    "\n",
    "def ranges_init(len):\n",
    "    i = 0\n",
    "    arr = []\n",
    "    while (i < len):\n",
    "        arr.append(i)\n",
    "        i += 1\n",
    "    return arr\n",
    "    \n",
    "\n",
    "def test_cases_init(size):\n",
    "    dataArrays = initArrays()\n",
    "\n",
    "    ranges = ranges_init(size)\n",
    "    presort = []\n",
    "    reverse = []\n",
    "    random = []\n",
    "    r1000 = []\n",
    "    r300s = []\n",
    "    r300d = []\n",
    "    s1000 = []\n",
    "    rv1000 = []\n",
    "    \n",
    "    for r in ranges:\n",
    "        i = 0\n",
    "        presort_arr = []\n",
    "        reverse_arr = []\n",
    "        random_arr = []\n",
    "        r1000_arr = []\n",
    "        r300s_arr = []\n",
    "        r300d_arr = []\n",
    "        s1000_arr = []\n",
    "        rv1000_arr = []\n",
    "        while (i < r):\n",
    "            presort_arr.append(dataArrays[0][i])\n",
    "            reverse_arr.append(dataArrays[1][i])\n",
    "            random_arr.append(dataArrays[2][i])\n",
    "            r1000_arr.append(dataArrays[5][i])\n",
    "            r300s_arr.append(dataArrays[7][i])\n",
    "            r300d_arr.append(dataArrays[8][i])\n",
    "            s1000_arr.append(dataArrays[4][i])\n",
    "            rv1000_arr.append(dataArrays[3][i])\n",
    "            i += 1\n",
    "            \n",
    "        presort.append(presort_arr)\n",
    "        reverse.append(reverse_arr)\n",
    "        random.append(random_arr)\n",
    "        r1000.append(r1000_arr)\n",
    "        r300s.append(r300s_arr)\n",
    "        r300d.append(r300d_arr)\n",
    "        s1000.append(s1000_arr)\n",
    "        rv1000.append(rv1000_arr)\n",
    "    \n",
    "    return presort, reverse, random, r1000, r300s, r300d, s1000, rv1000\n",
    "\n",
    "def get_unsortedness(data):\n",
    "    counter = 0\n",
    "    comparisons = 0\n",
    "    for index in range(1, len(data)):\n",
    "        counter+=1\n",
    "        while 0 < index and data[index] < data[index - 1]:\n",
    "            counter += 1\n",
    "            index -= 1\n",
    "\n",
    "    return counter"
   ]
  },
  {
   "cell_type": "markdown",
   "metadata": {},
   "source": [
    "## O($n^{2}$)  algorithms\n",
    "\n",
    "\n",
    "### Selection Sort"
   ]
  },
  {
   "cell_type": "code",
   "execution_count": 7,
   "metadata": {},
   "outputs": [],
   "source": [
    "def selection_sort(data):\n",
    "    count = 0\n",
    "    for index in range(len(data)):\n",
    "        min = index\n",
    "        \n",
    "        for scan in range(index + 1, len(data)):\n",
    "            count += 1\n",
    "            if (data[scan] < data[min]):\n",
    "                min = scan\n",
    "        if min != index:\n",
    "            data[index], data[min] = data[min], data[index]\n",
    "    return count, data"
   ]
  },
  {
   "cell_type": "markdown",
   "metadata": {},
   "source": [
    "### Insertion Sort"
   ]
  },
  {
   "cell_type": "code",
   "execution_count": 8,
   "metadata": {
    "collapsed": true
   },
   "outputs": [],
   "source": [
    "def insertion_sort(data):\n",
    "    count = 0\n",
    "    for index in range(1, len(data)):\n",
    "        # count += 1\n",
    "        while 0 < index and data[index] < data[index - 1]:\n",
    "            count += 1\n",
    "            data[index], data[\n",
    "                index - 1] = data[index - 1], data[index]\n",
    "            index -= 1\n",
    "\n",
    "    return count, data"
   ]
  },
  {
   "cell_type": "markdown",
   "metadata": {},
   "source": [
    "### Bubble Sort"
   ]
  },
  {
   "cell_type": "code",
   "execution_count": 9,
   "metadata": {
    "collapsed": true
   },
   "outputs": [],
   "source": [
    "def bubble_sort(data):\n",
    "    count = 0\n",
    "    while True:\n",
    "        swapped = False\n",
    "        for index in range(1, len(data)):\n",
    "            count += 1\n",
    "            if data[index-1] > data[index]:\n",
    "                data[index-1], data[index] = data[index], data[index-1]\n",
    "                swapped = True\n",
    "        if not swapped:\n",
    "            break\n",
    "    return count, data"
   ]
  },
  {
   "cell_type": "markdown",
   "metadata": {},
   "source": [
    "## Shell Sort optimization\n",
    "\n",
    "### Shell Sort with Insertion Sort subroutine\n"
   ]
  },
  {
   "cell_type": "code",
   "execution_count": 10,
   "metadata": {},
   "outputs": [],
   "source": [
    "def shell_sort(data, gapSequence):\n",
    "    unsortedness = []\n",
    "    comparisons = []\n",
    "    comparisonSumSS = 0\n",
    "    swapSumSS = 0\n",
    "   \n",
    "    for gap in gapSequence:\n",
    "        unsortedness.append(get_unsortedness(data))\n",
    "        comparisons.append(comparisonSumSS)\n",
    "        \n",
    "        # Subroutine call\n",
    "        insertionSortResult = insertion_subroutine(data, gap)\n",
    "        comparisonSumSS = comparisonSumSS + insertionSortResult[1]\n",
    "        swapSumSS = swapSumSS + insertionSortResult[2]\n",
    "    \n",
    "    comparisons.append(comparisonSumSS)\n",
    "    unsortedness.append(0)\n",
    "        \n",
    "    return data, comparisonSumSS, swapSumSS, unsortedness, comparisons\n",
    "\n",
    "def insertion_subroutine(data, gap):\n",
    "    comparisons = 0\n",
    "    comparisonSumIS = 0\n",
    "    \n",
    "    swaps = 0\n",
    "    swapSumIS = 0\n",
    "    \n",
    "    for index in range(gap, len(data)):\n",
    "        comparisons = 0\n",
    "        swaps = 0\n",
    "        \n",
    "        while 0 < index and data[index] < data[index - gap]:\n",
    "            comparisons += 1\n",
    "            # Do the swap!\n",
    "            data[index], data[\n",
    "                index - gap] = data[index - gap], data[index]\n",
    "            swaps += 1\n",
    "            index -= gap\n",
    "            \n",
    "        comparisons += 1\n",
    "        comparisonSumIS += comparisons\n",
    "        \n",
    "        swapSumIS += swaps\n",
    "       \n",
    "    return data, comparisonSumIS, swapSumIS"
   ]
  },
  {
   "cell_type": "markdown",
   "metadata": {},
   "source": [
    "### Shell Sort using Shell's Gap Sequence"
   ]
  },
  {
   "cell_type": "code",
   "execution_count": 11,
   "metadata": {},
   "outputs": [],
   "source": [
    "def shell_gap_seq(dataLength):\n",
    "    gap = dataLength\n",
    "    gapSequence = []\n",
    "    i = 100\n",
    "\n",
    "    while gap > 1:\n",
    "        gap = math.floor(gap // 2)\n",
    "        gapSequence.append(gap)\n",
    "        \n",
    "    return gapSequence"
   ]
  },
  {
   "cell_type": "markdown",
   "metadata": {},
   "source": [
    "### Shell Sort using Ciura's Gap Sequence"
   ]
  },
  {
   "cell_type": "code",
   "execution_count": 12,
   "metadata": {},
   "outputs": [],
   "source": [
    "def ciura_gap_seq(dataLength):\n",
    "    ciuraSeq = [701, 301, 132, 57, 23, 10, 4, 1]\n",
    "    gapSequence = []\n",
    "    \n",
    "    for gap in ciuraSeq:\n",
    "        if gap < dataLength:\n",
    "            gapSequence.append(gap)\n",
    "            \n",
    "    return gapSequence"
   ]
  },
  {
   "cell_type": "markdown",
   "metadata": {},
   "source": [
    "## Bucket Sort\n"
   ]
  },
  {
   "cell_type": "code",
   "execution_count": 13,
   "metadata": {},
   "outputs": [],
   "source": [
    "def bucket_sort(data, bucketSize):\n",
    "    biggest = 0\n",
    "    comparisonSumBS = 0\n",
    "    sorted = []\n",
    "    \n",
    "    for number in data:\n",
    "        if number > biggest:\n",
    "            biggest = number\n",
    "    buckets = []\n",
    "    \n",
    "    for i in range ((int(biggest / bucketSize + 1))):\n",
    "        buckets.append([])\n",
    "        \n",
    "    for number in data:\n",
    "        buckets[int(number / bucketSize)].append(number)\n",
    "        \n",
    "    for index, bucket in enumerate(buckets):\n",
    "        insertionSortResult = insertion_subroutine(bucket, 1)\n",
    "        buckets[index] = insertionSortResult[0]\n",
    "        \n",
    "        comparisonSumBS += int(insertionSortResult[1])\n",
    "        sorted.extend(buckets[index])\n",
    "    \n",
    "    return sorted, comparisonSumBS, buckets"
   ]
  },
  {
   "cell_type": "markdown",
   "metadata": {},
   "source": [
    "## Radix Sort\n",
    "\n",
    "### Radix Sort with Counting Sort subroutine"
   ]
  },
  {
   "cell_type": "code",
   "execution_count": 14,
   "metadata": {},
   "outputs": [],
   "source": [
    "def radix_sort_cs(data):\n",
    "    accessSum = 0\n",
    "    max_radix = max(data)\n",
    "    accessSum = 0\n",
    "    exp = 1\n",
    "    \n",
    "    while max_radix/exp > 0:\n",
    "        cs = counting_sort(data,exp)\n",
    "        accessSum += counting_sort(data,exp)[1]\n",
    "        exp *= 10\n",
    "        \n",
    "    return data, accessSum\n",
    "\n",
    "def counting_sort(data, exp):\n",
    "    access = 0\n",
    "    n = len(data)\n",
    " \n",
    "    output = [0] * (n)\n",
    "    count = [0] * (10)\n",
    "\n",
    "    for i in range(0, n):\n",
    "        index = (data[i]/exp)\n",
    "        count[ int((index)%10) ] += 1\n",
    " \n",
    "    for i in range(1,10):\n",
    "        count[i] += count[i-1]\n",
    " \n",
    "    i = n-1\n",
    "    while i>=0:\n",
    "        index = (data[i]/exp)\n",
    "        output[ count[ int((index)%10) ] - 1] = data[i]\n",
    "        count[ int((index)%10) ] -= 1\n",
    "        i -= 1\n",
    "        \n",
    "    i = 0\n",
    "    for i in range(0,len(data)):\n",
    "        data[i] = output[i]\n",
    "        access += 1\n",
    "    \n",
    "    return data, access"
   ]
  },
  {
   "cell_type": "markdown",
   "metadata": {},
   "source": [
    "### Radix Sort with Insertion Sort subroutine"
   ]
  },
  {
   "cell_type": "code",
   "execution_count": 15,
   "metadata": {},
   "outputs": [],
   "source": [
    "def radix_sort_is(array, radix):\n",
    "    accessSum = 0\n",
    "    if len(array) == 0:\n",
    "        return array\n",
    "    \n",
    "    minValue = min(array)\n",
    "    maxValue = max(array)\n",
    "\n",
    "    # LSD implementation\n",
    "    exponent = 1\n",
    "    while (maxValue - minValue) / exponent >= 1:\n",
    "        accessSum += insertion_subroutine_radix(array, 1, exponent, radix)\n",
    "        \n",
    "        exponent *= radix\n",
    "\n",
    "    return array, accessSum\n",
    "\n",
    "def insertion_subroutine_radix(array, gap, exp, radix):\n",
    "    accesses = 0\n",
    "    comparisons = 0\n",
    "    for i in range(gap, len(array)):\n",
    "        comparisons += 1\n",
    "        accesses += 1\n",
    "        val = array[i]\n",
    "        j = i\n",
    "        while j >= gap and array[j - gap] / exp % radix > val  / exp % radix:\n",
    "            array[j] = array[j - gap]\n",
    "            j -= gap\n",
    "            comparisons += 1\n",
    "            accesses += 1\n",
    "        array[j] = val\n",
    "\n",
    "    return accesses"
   ]
  },
  {
   "cell_type": "markdown",
   "metadata": {},
   "source": [
    "## Merge Sort"
   ]
  },
  {
   "cell_type": "code",
   "execution_count": 16,
   "metadata": {},
   "outputs": [],
   "source": [
    "def merge_sort(data):\n",
    "    comparisons = 0\n",
    "\n",
    "    if len(data)>1:\n",
    "        intMidValue = len(data)//2\n",
    "        listLeftHalf = data[:intMidValue]\n",
    "        listRightHalf = data[intMidValue:]\n",
    "\n",
    "        left_part = merge_sort(listLeftHalf)\n",
    "        right_part = merge_sort(listRightHalf)\n",
    "\n",
    "        comparisons += left_part[1] + right_part[1]\n",
    "\n",
    "        i=0\n",
    "        j=0\n",
    "        k=0\n",
    "        while i < len(listLeftHalf) and j < len(listRightHalf):\n",
    "            comparisons += 1\n",
    "            if listLeftHalf[i] < listRightHalf[j]:\n",
    "                data[k]=listLeftHalf[i]\n",
    "                i =i+1\n",
    "\n",
    "            else:\n",
    "                data[k]=listRightHalf[j]\n",
    "                j=j+1\n",
    "\n",
    "            k=k+1\n",
    "\n",
    "        while i < len(listLeftHalf):\n",
    "            data[k]=listLeftHalf[i]\n",
    "            i=i+1\n",
    "            k=k+1\n",
    "            comparisons += 1\n",
    "\n",
    "        while j < len(listRightHalf):\n",
    "            data[k]=listRightHalf[j]\n",
    "            j=j+1\n",
    "            k=k+1\n",
    "            comparisons += 1\n",
    "\n",
    "    return data, comparisons"
   ]
  },
  {
   "cell_type": "markdown",
   "metadata": {},
   "source": [
    "## Quick Sort "
   ]
  },
  {
   "cell_type": "code",
   "execution_count": 17,
   "metadata": {
    "collapsed": true
   },
   "outputs": [],
   "source": [
    "def partition(data, start, end):\n",
    "    comparisonSum = 0\n",
    "    pos = start\n",
    "    for i in range(start, end):\n",
    "        comparisonSum += 1\n",
    "        if data[i] < data[end]:\n",
    "            data[i], data[pos] = data[pos], data[i]\n",
    "            pos += 1\n",
    "    data[pos], data[end] = data[end], data[pos]\n",
    "    return pos, comparisonSum\n",
    "\n",
    "def quick_sort_helper(data, start, end):\n",
    "    comparisonSum = 0\n",
    "    if start < end:\n",
    "        pos, comparisonSum = partition(data, start, end)        \n",
    "        comparisonSum += quick_sort_helper(data, start, pos - 1)\n",
    "        comparisonSum += quick_sort_helper(data, pos + 1, end)\n",
    "    return comparisonSum\n",
    "\n",
    "def quick_sort(data, start, end):\n",
    "    if start is None:\n",
    "        start = 0\n",
    "    if end is None:\n",
    "        end = len(data) - 1\n",
    "    return quick_sort_helper(data, start, end)"
   ]
  }
 ],
 "metadata": {
  "kernelspec": {
   "display_name": "Python 3",
   "language": "python",
   "name": "python3"
  },
  "language_info": {
   "codemirror_mode": {
    "name": "ipython",
    "version": 3
   },
   "file_extension": ".py",
   "mimetype": "text/x-python",
   "name": "python",
   "nbconvert_exporter": "python",
   "pygments_lexer": "ipython3",
   "version": "3.6.2"
  }
 },
 "nbformat": 4,
 "nbformat_minor": 2
}
