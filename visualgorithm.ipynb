{
 "cells": [
  {
   "cell_type": "markdown",
   "metadata": {},
   "source": [
    "# visualgorithm: a sorting machine problem\n",
    "---\n",
    "*submitted by Goldy Mariz Lunesa / github.com/gmlunesa*\n",
    "\n",
    "\n",
    "## O($n^{2}$)  algorithms\n",
    "\n",
    "Count the number of comparisons (selection vs bubble vs insertion)\n",
    "\n",
    "- Best case comparison (pre sorted sequences)\n",
    "\n",
    "- Worst case comparison (reverse sorted sequences)\n",
    "\n",
    "- Average case comparison (random numbers)\n",
    "\n",
    "### Selection Sort\n",
    "\n",
    "Selection sort works by finding the number in the first position of $A$′,\n",
    "$a′_{0}$, which is eqivalent to the smallest number in $A$, min($A$). It then finds\n",
    "the number to be placed in the $a'_{1}$ which is eqivalent to the smallest\n",
    "number in $A$ excluding $a'_{0}$ which is equivalent to min($A$ − [$a'_{0}$]). The\n",
    "next number, $a'_{2}$ ( is equivalent to min($A$ − [$a'_{0}$, $a'_{1}$]). Selection sort does\n",
    "this until the value for $a'_{n}$ is found.\n",
    "\n",
    "**Best Case**\n",
    "\n",
    " "
   ]
  }
 ],
 "metadata": {
  "kernelspec": {
   "display_name": "Python 3",
   "language": "python",
   "name": "python3"
  },
  "language_info": {
   "codemirror_mode": {
    "name": "ipython",
    "version": 3
   },
   "file_extension": ".py",
   "mimetype": "text/x-python",
   "name": "python",
   "nbconvert_exporter": "python",
   "pygments_lexer": "ipython3",
   "version": "3.6.3"
  }
 },
 "nbformat": 4,
 "nbformat_minor": 2
}
