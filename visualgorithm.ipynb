{
 "cells": [
  {
   "cell_type": "markdown",
   "metadata": {},
   "source": [
    "# visualgorithm: a sorting machine problem\n",
    "---\n",
    "*submitted by Goldy Mariz Lunesa || [@gmlunesa](https://github.com/gmlunesa)*\n",
    "\n",
    "\n",
    "## O($n^{2}$)  algorithms\n",
    "\n",
    "Count the number of comparisons (selection vs bubble vs insertion)\n",
    "\n",
    "- Best case comparison (pre sorted sequences)\n",
    "\n",
    "- Worst case comparison (reverse sorted sequences)\n",
    "\n",
    "- Average case comparison (random numbers)\n",
    "\n",
    "### Selection Sort\n",
    "\n",
    "Selection sort works by finding the number in the first position of $A'$, $a'_{0}$, which is eqivalent to the smallest number in $A$, min($A$). It then finds the number to be placed in the $a'_{1}$ which is eqivalent to the smallest number in $A$ excluding $a'_{0}$ which is equivalent to min($A$ − [$a'_{0}$]). The next number, $a'_{2}$ ( is equivalent to min($A$ − [$a'_{0}$, $a'_{1}$]). Selection sort does this until the value for $a'_{n}$ is found.\n"
   ]
  },
  {
   "cell_type": "code",
   "execution_count": 183,
   "metadata": {
    "collapsed": true
   },
   "outputs": [],
   "source": [
    "def initArrays():\n",
    "    with open('on2bestcase.txt') as file_bc:\n",
    "        bestCaseArray = []\n",
    "        for line in file_bc:\n",
    "            bestCaseArray.append(int(line))\n",
    "        \n",
    "    with open('on2worstcase.txt') as file_wc:\n",
    "        worstCaseArray = []\n",
    "        for line in file_wc:\n",
    "            worstCaseArray.append(int(line))\n",
    "\n",
    "    with open('on2avgcase.txt') as file_ac:\n",
    "        avgCaseArray = []\n",
    "        for line in file_ac:\n",
    "            avgCaseArray.append(int(line))\n",
    "            \n",
    "    return bestCaseArray, worstCaseArray, avgCaseArray"
   ]
  },
  {
   "cell_type": "code",
   "execution_count": 184,
   "metadata": {
    "scrolled": true
   },
   "outputs": [
    {
     "name": "stdout",
     "output_type": "stream",
     "text": [
      "Best Case: %s 300\n",
      "Worst Case:  %s 300\n",
      "Average Case: %s 300\n"
     ]
    }
   ],
   "source": [
    "dataArrays = initArrays()\n",
    "\n",
    "def selection_sort(data):\n",
    "    count = 0\n",
    "    for index in range(len(data)):\n",
    "        min = index\n",
    "        count += 1\n",
    "        for scan in range(index + 1, len(data)):\n",
    "            if (data[scan] < data[min]):\n",
    "                min = scan\n",
    "        if min != index:\n",
    "            data[index], data[min] = data[min], data[index]\n",
    "    return count, data\n",
    "\n",
    "print(\"Best Case: %s\",  selection_sort(dataArrays[0])[0])\n",
    "print(\"Worst Case:  %s\", selection_sort(dataArrays[1])[0]) \n",
    "print(\"Average Case: %s\", selection_sort(dataArrays[2])[0])"
   ]
  },
  {
   "cell_type": "markdown",
   "metadata": {},
   "source": [
    "---\n",
    "### Insertion Sort\n",
    "\n",
    "Insertion sort works by partially sorting the elements of the sequence. It\n",
    "starts by sorting the first 2 elements of the sequence, inserting the $a '_{1}$ to\n",
    "the first position if $a '_{1}$ < $a '_{0}$. It then sorts the first 3 elements of the\n",
    "sequence by inserting $a '_{2}$ to its correct spot in then sorted 2 elements. It\n",
    "then sorts the first 4 elements by inserting the $a '_{3}$ into its correct spot.\n",
    "The algorithm does this $n$ − 1 number of times.\n",
    "\n"
   ]
  },
  {
   "cell_type": "code",
   "execution_count": 185,
   "metadata": {},
   "outputs": [
    {
     "name": "stdout",
     "output_type": "stream",
     "text": [
      "Best Case: 0\n",
      "Worst Case:  44850\n",
      "Average Case: 20943\n"
     ]
    }
   ],
   "source": [
    "dataArrays = initArrays()\n",
    "\n",
    "# Recursive implementation of insertion sort\n",
    "def insertion_sort(data):\n",
    "    count = 0\n",
    "    for index in range(1, len(data)):\n",
    "        while 0 < index and data[index] < data[index - 1]:\n",
    "            count += 1\n",
    "            data[index], data[\n",
    "                index - 1] = data[index - 1], data[index]\n",
    "            index -= 1\n",
    "\n",
    "    return count, data\n",
    "\n",
    "\n",
    "\n",
    "print(\"Best Case: %s\" % insertion_sort(dataArrays[0])[0])\n",
    "print(\"Worst Case:  %s\" % insertion_sort(dataArrays[1])[0]) \n",
    "print(\"Average Case: %s\" % insertion_sort(dataArrays[2])[0])"
   ]
  },
  {
   "cell_type": "markdown",
   "metadata": {},
   "source": [
    "---\n",
    "### Bubble Sort\n",
    "\n",
    "Bubble sort works by comparing every pair of adjacent elements, $a_{i}$ and\n",
    "$a_{i+1}$. If the elements are in the wrong order, (i.e. $a_{i}$ > $a_{i+1}$) the elements\n",
    "are swapped. The algorithm performs this until all elements are in their\n",
    "right position."
   ]
  },
  {
   "cell_type": "code",
   "execution_count": 186,
   "metadata": {},
   "outputs": [
    {
     "name": "stdout",
     "output_type": "stream",
     "text": [
      "Best Case: 299\n",
      "Worst Case:  89700\n",
      "Average Case: 83720\n"
     ]
    }
   ],
   "source": [
    "dataArrays = initArrays()\n",
    "\n",
    "def bubble_sort(data):\n",
    "    count = 0\n",
    "    while True:\n",
    "        swapped = False\n",
    "        for index in range(1, len(data)):\n",
    "            count += 1\n",
    "            if data[index-1] > data[index]:\n",
    "                data[index-1], data[index] = data[index], data[index-1]\n",
    "                swapped = True\n",
    "        if not swapped:\n",
    "            break\n",
    "    return count, data\n",
    "\n",
    "print(\"Best Case: %s\" % bubble_sort(dataArrays[0])[0])\n",
    "print(\"Worst Case:  %s\" % bubble_sort(dataArrays[1])[0]) \n",
    "print(\"Average Case: %s\" % bubble_sort(dataArrays[2])[0])\n"
   ]
  },
  {
   "cell_type": "markdown",
   "metadata": {},
   "source": [
    "## Shell Sort optimization\n",
    "\n",
    "\n",
    "### Shell Sort\n",
    "\n",
    "Shell sort is the generalization of either the insertion sort algorithm, (or\n",
    "the bubble sort algorithm, but almost always, insertion sort is the\n",
    "chosen subroutine as discussed in the previous section). This algorithm\n",
    "works by dividing the input sequence into $g$ interleaved subsequences\n",
    "where each element in the sublist is separated by some gap $g$. The\n",
    "algorithm individually sorts these subsequences using either insertion\n",
    "sort or bubble sort. After sorting the subsequence, the procedure\n",
    "repeats with a reduced value for $g$, decreasing the amount of\n",
    "subsequences. The algorithm stops after the algorithm is sorted with\n",
    "$g$ = 1 (normal insertion or bubble sort).\n",
    "\n",
    "#### Shell Sort with Insertion Sort subroutine"
   ]
  },
  {
   "cell_type": "code",
   "execution_count": 187,
   "metadata": {
    "collapsed": true
   },
   "outputs": [],
   "source": [
    "dataArrays = initArrays()\n",
    "\n",
    "# In this Shell sort with insertion sort subroutine,\n",
    "# the gaps are determined by dividing the length of array by 2\n",
    "# def shell_sort_is(data):\n",
    "#     comparisons = 0\n",
    "#     comparisonSumSS = 0\n",
    "#     swapSumSS = 0\n",
    "#     gap = len(data) // 2\n",
    "   \n",
    "#     while gap > 0:\n",
    "#         # Subroutine call\n",
    "#         insertionSortResult = insertion_subroutine(data, gap)\n",
    "#         comparisonSumSS = comparisonSumSS + insertionSortResult[1]\n",
    "#         swapSumSS = swapSumSS + insertionSortResult[2]\n",
    "        \n",
    "#         gap //= 2\n",
    "        \n",
    "#     return data, comparisonSumSS, swapSumSS\n",
    "\n",
    "\n",
    "def shell_sort(data, gapSequence):\n",
    "    comparisons = 0\n",
    "    comparisonSumSS = 0\n",
    "    swapSumSS = 0\n",
    "   \n",
    "    for gap in gapSequence:\n",
    "        # Subroutine call\n",
    "        insertionSortResult = insertion_subroutine(data, gap)\n",
    "        comparisonSumSS = comparisonSumSS + insertionSortResult[1]\n",
    "        swapSumSS = swapSumSS + insertionSortResult[2]\n",
    "        \n",
    "    return data, comparisonSumSS, swapSumSS\n",
    "\n",
    "def insertion_subroutine(data, gap):\n",
    "    comparisons = 0\n",
    "    comparisonSumIS = 0\n",
    "    \n",
    "    swaps = 0\n",
    "    swapSumIS = 0\n",
    "    \n",
    "    for index in range(gap, len(data)):\n",
    "        comparisons = 0\n",
    "        swaps = 0;\n",
    "        \n",
    "        while 0 < index and data[index] < data[index - gap]:\n",
    "            comparisons += 1\n",
    "            # Do the swap!\n",
    "            data[index], data[\n",
    "                index - gap] = data[index - gap], data[index]\n",
    "            swaps += 1\n",
    "            index -= gap\n",
    "            \n",
    "        comparisons += 1\n",
    "        comparisonSumIS += comparisons\n",
    "        \n",
    "        swapSumIS += swaps\n",
    "       \n",
    "    return data, comparisonSumIS, swapSumIS\n"
   ]
  },
  {
   "cell_type": "markdown",
   "metadata": {},
   "source": [
    "#### Shell Sort with Shell's Gap Sequence\n",
    "\n",
    "Donald Shell proposed a sequence that follows the formula FLOOR($\\frac{N}{2^k}$), published in his paper *A High-Speed Sorting Procedure*, published in 1959. In our test case, the generated sequence is [150, 75, 37, 18, 9, 4, 2, 1]."
   ]
  },
  {
   "cell_type": "code",
   "execution_count": 188,
   "metadata": {},
   "outputs": [
    {
     "name": "stdout",
     "output_type": "stream",
     "text": [
      "Presorted; Comparisons: 2104 ; Swaps: 0 ;\n",
      "Reverse sorted; Comparisons: 8926 ; Swaps: 6822 ;\n",
      "Random Order; Comparisons: 8795 ; Swaps: 6691 ;\n"
     ]
    }
   ],
   "source": [
    "import math;\n",
    "\n",
    "dataArrays = initArrays()\n",
    "\n",
    "def shell_gap_seq(dataLength):\n",
    "    gap = dataLength\n",
    "    gapSequence = []\n",
    "    i = 100;\n",
    "\n",
    "    while gap > 1:\n",
    "        gap = math.floor(gap // 2)\n",
    "        gapSequence.append(gap)\n",
    "        \n",
    "    return gapSequence\n",
    "\n",
    "presortedResultsSSShellGap = shell_sort(dataArrays[0], shell_gap_seq(len(dataArrays[0])));\n",
    "reverseResultsSSShellGap = shell_sort(dataArrays[1], shell_gap_seq(len(dataArrays[1])));\n",
    "randomResultsSSShellGap = shell_sort(dataArrays[2], shell_gap_seq(len(dataArrays[2])));\n",
    "\n",
    "print(\"Presorted; Comparisons: %s ; Swaps: %s ;\" %(presortedResultsSSShellGap[1], presortedResultsSSShellGap[2]))\n",
    "print(\"Reverse sorted; Comparisons: %s ; Swaps: %s ;\" %(reverseResultsSSShellGap[1], reverseResultsSSShellGap[2]))\n",
    "print(\"Random Order; Comparisons: %s ; Swaps: %s ;\" %(randomResultsSSShellGap[1], randomResultsSSShellGap[2]))\n",
    "\n"
   ]
  },
  {
   "cell_type": "markdown",
   "metadata": {},
   "source": [
    "#### Shell's Sort with Ciura's Gap Sequence\n",
    "\n",
    "Ciura's gap sequence was introduced by Marcin Ciura in his paper entitled *Best Increments for the Average Case of Shellsort* in 2001. However, the general term of the sequence is unknown, as it was experimentally derived. The sequence goes [701, 301, 132, 57, 23, 10, 4, 1]. For our test data that has only 300 elements, we would only use the gap sequence comprised of [/132, 57, 23, 10, 4, 1]. \n"
   ]
  },
  {
   "cell_type": "code",
   "execution_count": 189,
   "metadata": {},
   "outputs": [
    {
     "name": "stdout",
     "output_type": "stream",
     "text": [
      "Presorted; Comparisons: 1573 ; Swaps: 0 ;\n",
      "Reverse sorted; Comparisons: 8507 ; Swaps: 6934 ;\n",
      "Random Order; Comparisons: 8866 ; Swaps: 7293 ;\n"
     ]
    }
   ],
   "source": [
    "dataArrays = initArrays();\n",
    "\n",
    "def ciura_gap_seq(dataLength):\n",
    "    ciuraSeq = [701, 301, 132, 57, 23, 10, 4, 1]\n",
    "    gapSequence = []\n",
    "    \n",
    "    for gap in ciuraSeq:\n",
    "        if gap < dataLength:\n",
    "            gapSequence.append(gap)\n",
    "            \n",
    "    return gapSequence\n",
    "\n",
    "presortedResultsSSCiuraGap = shell_sort(dataArrays[0], ciura_gap_seq(len(dataArrays[0])));\n",
    "reverseResultsSSCiuraGap = shell_sort(dataArrays[1], ciura_gap_seq(len(dataArrays[1])));\n",
    "randomResultsSSCiuraGap = shell_sort(dataArrays[2], ciura_gap_seq(len(dataArrays[2])));\n",
    "\n",
    "print(\"Presorted; Comparisons: %s ; Swaps: %s ;\" %(presortedResultsSSCiuraGap[1], presortedResultsSSCiuraGap[2]))\n",
    "print(\"Reverse sorted; Comparisons: %s ; Swaps: %s ;\" %(reverseResultsSSCiuraGap[1], reverseResultsSSCiuraGap[2]))\n",
    "print(\"Random Order; Comparisons: %s ; Swaps: %s ;\" %(randomResultsSSCiuraGap[1], randomResultsSSCiuraGap[2]))"
   ]
  },
  {
   "cell_type": "markdown",
   "metadata": {},
   "source": [
    "## Bucket Sort\n",
    "\n",
    "Bucket sort is initialized by preparing a sequence of buckets $B$. These buckets are disjoint sets which are defined by interval values and are arranged according to their interval definitions.\n",
    "\n",
    "The algorithm works by assigning each element $a_i$ into its corresponding bucket $b_k$. Assignment is based on the bucket definitions, (i.e. $a_i$ is assigned to $a_i$ if $a_i$ ∈ $a_i$). The act of assigning each element to a bucket is akin to approximating its position in the sorted array based on the elements value. After assigning each element to its corresponding bucket, the algorithm then sorts each bucket individually, creating a sorted subsequence $B'_k$ of each bucket $b_k$. The sorted sequence, $A'$ can then be derived as the concatenation of all sorted subsequences, $A'$ = $\\sum\\limits_{k=0}^{m-1} B_k $\n",
    "\n",
    "### Bucket Sort across different distributions\n"
   ]
  },
  {
   "cell_type": "code",
   "execution_count": 190,
   "metadata": {},
   "outputs": [
    {
     "name": "stdout",
     "output_type": "stream",
     "text": [
      "[1, 2, 3, 4, 5, 6, 7, 8]\n",
      "[9, 10, 11, 12, 13, 14, 15, 16, 17]\n",
      "[18, 19, 20, 21, 22, 23, 24, 25, 26]\n",
      "[27, 28, 29, 30, 31, 32, 33, 34, 35]\n",
      "[36, 37, 38, 39, 40, 41, 42, 43, 44]\n",
      "[45, 46, 47, 48, 49, 50, 51, 52, 53]\n",
      "[54, 55, 56, 57, 58, 59, 60, 61, 62]\n",
      "[63, 64, 65, 66, 67, 68, 69, 70, 71]\n",
      "[72, 73, 74, 75, 76, 77, 78, 79, 80]\n",
      "[81, 82, 83, 84, 85, 86, 87, 88, 89]\n",
      "[90, 91, 92, 93, 94, 95, 96, 97, 98]\n",
      "[99, 100, 101, 102, 103, 104, 105, 106, 107]\n",
      "[108, 109, 110, 111, 112, 113, 114, 115, 116]\n",
      "[117, 118, 119, 120, 121, 122, 123, 124, 125]\n",
      "[126, 127, 128, 129, 130, 131, 132, 133, 134]\n",
      "[135, 136, 137, 138, 139, 140, 141, 142, 143]\n",
      "[144, 145, 146, 147, 148, 149, 150, 151, 152]\n",
      "[153, 154, 155, 156, 157, 158, 159, 160, 161]\n",
      "[162, 163, 164, 165, 166, 167, 168, 169, 170]\n",
      "[171, 172, 173, 174, 175, 176, 177, 178, 179]\n",
      "[180, 181, 182, 183, 184, 185, 186, 187, 188]\n",
      "[189, 190, 191, 192, 193, 194, 195, 196, 197]\n",
      "[198, 199, 200, 201, 202, 203, 204, 205, 206]\n",
      "[207, 208, 209, 210, 211, 212, 213, 214, 215]\n",
      "[216, 217, 218, 219, 220, 221, 222, 223, 224]\n",
      "[225, 226, 227, 228, 229, 230, 231, 232, 233]\n",
      "[234, 235, 236, 237, 238, 239, 240, 241, 242]\n",
      "[243, 244, 245, 246, 247, 248, 249, 250, 251]\n",
      "[252, 253, 254, 255, 256, 257, 258, 259, 260]\n",
      "[261, 262, 263, 264, 265, 266, 267, 268, 269]\n",
      "[270, 271, 272, 273, 274, 275, 276, 277, 278]\n",
      "[279, 280, 281, 282, 283, 284, 285, 286, 287]\n",
      "[288, 289, 290, 291, 292, 293, 294, 295, 296]\n",
      "[297, 298, 299, 300]\n",
      "([1, 2, 3, 4, 5, 6, 7, 8, 9, 10, 11, 12, 13, 14, 15, 16, 17, 18, 19, 20, 21, 22, 23, 24, 25, 26, 27, 28, 29, 30, 31, 32, 33, 34, 35, 36, 37, 38, 39, 40, 41, 42, 43, 44, 45, 46, 47, 48, 49, 50, 51, 52, 53, 54, 55, 56, 57, 58, 59, 60, 61, 62, 63, 64, 65, 66, 67, 68, 69, 70, 71, 72, 73, 74, 75, 76, 77, 78, 79, 80, 81, 82, 83, 84, 85, 86, 87, 88, 89, 90, 91, 92, 93, 94, 95, 96, 97, 98, 99, 100, 101, 102, 103, 104, 105, 106, 107, 108, 109, 110, 111, 112, 113, 114, 115, 116, 117, 118, 119, 120, 121, 122, 123, 124, 125, 126, 127, 128, 129, 130, 131, 132, 133, 134, 135, 136, 137, 138, 139, 140, 141, 142, 143, 144, 145, 146, 147, 148, 149, 150, 151, 152, 153, 154, 155, 156, 157, 158, 159, 160, 161, 162, 163, 164, 165, 166, 167, 168, 169, 170, 171, 172, 173, 174, 175, 176, 177, 178, 179, 180, 181, 182, 183, 184, 185, 186, 187, 188, 189, 190, 191, 192, 193, 194, 195, 196, 197, 198, 199, 200, 201, 202, 203, 204, 205, 206, 207, 208, 209, 210, 211, 212, 213, 214, 215, 216, 217, 218, 219, 220, 221, 222, 223, 224, 225, 226, 227, 228, 229, 230, 231, 232, 233, 234, 235, 236, 237, 238, 239, 240, 241, 242, 243, 244, 245, 246, 247, 248, 249, 250, 251, 252, 253, 254, 255, 256, 257, 258, 259, 260, 261, 262, 263, 264, 265, 266, 267, 268, 269, 270, 271, 272, 273, 274, 275, 276, 277, 278, 279, 280, 281, 282, 283, 284, 285, 286, 287, 288, 289, 290, 291, 292, 293, 294, 295, 296, 297, 298, 299, 300], 266)\n"
     ]
    }
   ],
   "source": [
    "dataArrays = initArrays();\n",
    "\n",
    "# def bucket_sort(data):\n",
    "#     biggest = 0\n",
    "#     comparisonSumBS = 0\n",
    "    \n",
    "#     for number in data:\n",
    "#         if number > biggest:\n",
    "#             biggest = number\n",
    "#     buckets = []\n",
    "    \n",
    "#     for i in range ((int(biggest / 10 + 1))):\n",
    "#         buckets.append([])\n",
    "\n",
    "#     for number in data:\n",
    "#         buckets[int(number / 10)].append(number)\n",
    "        \n",
    "#     for index, bucket in enumerate(buckets):\n",
    "#         # Insertion sort as the subroutine\n",
    "#         insertionSortResult = insertion_subroutine(bucket, 1);\n",
    "#         buckets[index] = insertionSortResult[0];\n",
    "#         comparisonSumBS += int(insertionSortResult[1]);\n",
    "        \n",
    "#     sorted = [number for number in bucket for bucket in buckets]\n",
    "#     print(sorted);\n",
    "#     return sorted, comparisonSumBS\n",
    "\n",
    "def bucket_sort(data, bucketSize):\n",
    "    biggest = 0\n",
    "    comparisonSumBS = 0\n",
    "    sorted = []\n",
    "    \n",
    "    for number in data:\n",
    "        if number > biggest:\n",
    "            biggest = number\n",
    "    buckets = []\n",
    "    \n",
    "    for i in range ((int(biggest / bucketSize + 1))):\n",
    "        buckets.append([])\n",
    "        \n",
    "    for number in data:\n",
    "        buckets[int(number / bucketSize)].append(number)\n",
    "        \n",
    "    for index, bucket in enumerate(buckets):\n",
    "        # Using insertion sort to sort individual buckets\n",
    "        insertionSortResult = insertion_subroutine(bucket, 1);\n",
    "        buckets[index] = insertionSortResult[0];\n",
    "        print(insertionSortResult[0]);\n",
    "        comparisonSumBS += int(insertionSortResult[1]);\n",
    "        sorted.extend(buckets[index])\n",
    "    \n",
    "    # print (sorted)\n",
    "    \n",
    "    return sorted, comparisonSumBS\n",
    "\n",
    "print(bucket_sort(dataArrays[0], 9))"
   ]
  },
  {
   "cell_type": "markdown",
   "metadata": {},
   "source": [
    "## Radix Sort\n",
    "\n",
    "Radix sort's algorithm works by sorting the sequence repetitively on each digit. There are two types of radix sort, LSD (least significant digit) and MSD (most significant digit). LSD Radix sort starts sorting at the least significant digit (one's place digit) and MSD Radix sort starts at the most significant digit.\n",
    "\n",
    "### Counting Sort Subroutine\n",
    "\n",
    "Counting Sort is the best sorting subroutine to be used for Radix sort. It is a non-comparison sort algorithm that works best when sorting large integer sequences on short ranges.\n",
    "vfc"
   ]
  },
  {
   "cell_type": "code",
   "execution_count": 191,
   "metadata": {
    "collapsed": true
   },
   "outputs": [],
   "source": [
    "dataArrays = initArrays()\n",
    "\n",
    "def radix_sort_cs(data):\n",
    "    accessSum = 0\n",
    "    # Find the maximum number to know number of digits\n",
    "    max_radix = max(data)\n",
    "    \n",
    "    accessSum = 0;\n",
    " \n",
    "    # Do counting sort for every digit. Note that instead\n",
    "    # of passing digit number, exp is passed. exp is 10^i\n",
    "    # where i is current digit number\n",
    "    exp = 1\n",
    "    while max_radix/exp > 0:\n",
    "        cs = counting_sort(data,exp)\n",
    "        accessSum += counting_sort(data,exp)[1]\n",
    "        exp *= 10\n",
    "        \n",
    "    return data, accessSum"
   ]
  },
  {
   "cell_type": "code",
   "execution_count": 192,
   "metadata": {},
   "outputs": [
    {
     "name": "stdout",
     "output_type": "stream",
     "text": [
      "([1, 2, 3, 4, 5, 6, 7, 8, 9, 10, 11, 12, 13, 14, 15, 16, 17, 18, 19, 20, 21, 22, 23, 24, 25, 26, 27, 28, 29, 30, 31, 32, 33, 34, 35, 36, 37, 38, 39, 40, 41, 42, 43, 44, 45, 46, 47, 48, 49, 50, 51, 52, 53, 54, 55, 56, 57, 58, 59, 60, 61, 62, 63, 64, 65, 66, 67, 68, 69, 70, 71, 72, 73, 74, 75, 76, 77, 78, 79, 80, 81, 82, 83, 84, 85, 86, 87, 88, 89, 90, 91, 92, 93, 94, 95, 96, 97, 98, 99, 100, 101, 102, 103, 104, 105, 106, 107, 108, 109, 110, 111, 112, 113, 114, 115, 116, 117, 118, 119, 120, 121, 122, 123, 124, 125, 126, 127, 128, 129, 130, 131, 132, 133, 134, 135, 136, 137, 138, 139, 140, 141, 142, 143, 144, 145, 146, 147, 148, 149, 150, 151, 152, 153, 154, 155, 156, 157, 158, 159, 160, 161, 162, 163, 164, 165, 166, 167, 168, 169, 170, 171, 172, 173, 174, 175, 176, 177, 178, 179, 180, 181, 182, 183, 184, 185, 186, 187, 188, 189, 190, 191, 192, 193, 194, 195, 196, 197, 198, 199, 200, 201, 202, 203, 204, 205, 206, 207, 208, 209, 210, 211, 212, 213, 214, 215, 216, 217, 218, 219, 220, 221, 222, 223, 224, 225, 226, 227, 228, 229, 230, 231, 232, 233, 234, 235, 236, 237, 238, 239, 240, 241, 242, 243, 244, 245, 246, 247, 248, 249, 250, 251, 252, 253, 254, 255, 256, 257, 258, 259, 260, 261, 262, 263, 264, 265, 266, 267, 268, 269, 270, 271, 272, 273, 274, 275, 276, 277, 278, 279, 280, 281, 282, 283, 284, 285, 286, 287, 288, 289, 290, 291, 292, 293, 294, 295, 296, 297, 298, 299, 300], 98100)\n",
      "98400\n"
     ]
    }
   ],
   "source": [
    "dataArrays = initArrays()\n",
    "def counting_sort(data, exp):\n",
    "    access = 0\n",
    "    n = len(data)\n",
    " \n",
    "    # Array to store sorted data\n",
    "    output = [0] * (n)\n",
    " \n",
    "    # Initialize count array as 0\n",
    "    count = [0] * (10)\n",
    " \n",
    "    # Store count of occurrences in count[]\n",
    "    for i in range(0, n):\n",
    "        index = (data[i]/exp)\n",
    "        count[ int((index)%10) ] += 1\n",
    " \n",
    "    # Change count[i] so that count[i] now contains actual\n",
    "    #  position of this digit in output array\n",
    "    for i in range(1,10):\n",
    "        count[i] += count[i-1]\n",
    " \n",
    "    # Build the output data\n",
    "    i = n-1\n",
    "    while i>=0:\n",
    "        index = (data[i]/exp)\n",
    "        output[ count[ int((index)%10) ] - 1] = data[i]\n",
    "        count[ int((index)%10) ] -= 1\n",
    "        i -= 1\n",
    "#         access += 1\n",
    " \n",
    "    # Copying the output data to data[],\n",
    "    # so that data now contains sorted numbers\n",
    "    i = 0\n",
    "    for i in range(0,len(data)):\n",
    "        data[i] = output[i]\n",
    "        access += 1\n",
    "    \n",
    "#     print(access)\n",
    "    return data, access\n",
    "        \n",
    "print(radix_sort_cs(dataArrays[1]))\n",
    "\n",
    "dataArrays = initArrays()\n",
    "def radix_sort(data):\n",
    "    accesses = 0\n",
    "    RADIX = 10\n",
    "    max_length = False\n",
    "    tmp, placement = -1, 1\n",
    "\n",
    "    while not max_length:\n",
    "        max_length = True\n",
    "        buckets = [list() for _ in range(RADIX)]\n",
    "\n",
    "        for i in data:\n",
    "            tmp = i / placement\n",
    "            buckets[int(tmp % RADIX)].append(i)\n",
    "            if max_length and tmp > 0:\n",
    "                max_length = False\n",
    "\n",
    "        a = 0\n",
    "        for b in range(RADIX):\n",
    "            bucket = buckets[b]\n",
    "            for i in bucket:\n",
    "                data[a] = i\n",
    "                a += 1\n",
    "                accesses += 1\n",
    "\n",
    "        placement *= RADIX\n",
    "    \n",
    "    return accesses\n",
    "\n",
    "print(radix_sort(dataArrays[1]))\n"
   ]
  },
  {
   "cell_type": "markdown",
   "metadata": {},
   "source": [
    "### Insertion Sort Subroutine\n",
    "\n",
    "Radix sort, such as two pass method where counting sort is used during the first pass of each level of recursion, has a large constant overhead. Thus, when the buckets get small, other sorting algorithms should be used, such as **insertion sort**. A good implementation of insertion sort is fast for small arrays, stable, in-place, and can significantly speed up Radix Sort."
   ]
  },
  {
   "cell_type": "code",
   "execution_count": 193,
   "metadata": {
    "collapsed": true
   },
   "outputs": [],
   "source": [
    "dataArrays = initArrays()\n",
    "\n",
    "def insertion_subroutine_radix(array, gap, exp, radix):\n",
    "    accesses = 0\n",
    "    comparisons = 0\n",
    "    for i in range(gap, len(array)):\n",
    "        comparisons += 1\n",
    "        accesses += 1\n",
    "        val = array[i]\n",
    "        j = i\n",
    "        while j >= gap and array[j - gap] / exp % radix > val  / exp % radix:\n",
    "            array[j] = array[j - gap]\n",
    "            j -= gap\n",
    "            comparisons += 1\n",
    "            accesses += 1\n",
    "        array[j] = val\n",
    "\n",
    "    return accesses"
   ]
  },
  {
   "cell_type": "code",
   "execution_count": 194,
   "metadata": {},
   "outputs": [
    {
     "name": "stdout",
     "output_type": "stream",
     "text": [
      "([1, 2, 3, 4, 5, 6, 7, 8, 9, 10, 11, 12, 13, 14, 15, 16, 17, 18, 19, 20, 21, 22, 23, 24, 25, 26, 27, 28, 29, 30, 31, 32, 33, 34, 35, 36, 37, 38, 39, 40, 41, 42, 43, 44, 45, 46, 47, 48, 49, 50, 51, 52, 53, 54, 55, 56, 57, 58, 59, 60, 61, 62, 63, 64, 65, 66, 67, 68, 69, 70, 71, 72, 73, 74, 75, 76, 77, 78, 79, 80, 81, 82, 83, 84, 85, 86, 87, 88, 89, 90, 91, 92, 93, 94, 95, 96, 97, 98, 99, 100, 101, 102, 103, 104, 105, 106, 107, 108, 109, 110, 111, 112, 113, 114, 115, 116, 117, 118, 119, 120, 121, 122, 123, 124, 125, 126, 127, 128, 129, 130, 131, 132, 133, 134, 135, 136, 137, 138, 139, 140, 141, 142, 143, 144, 145, 146, 147, 148, 149, 150, 151, 152, 153, 154, 155, 156, 157, 158, 159, 160, 161, 162, 163, 164, 165, 166, 167, 168, 169, 170, 171, 172, 173, 174, 175, 176, 177, 178, 179, 180, 181, 182, 183, 184, 185, 186, 187, 188, 189, 190, 191, 192, 193, 194, 195, 196, 197, 198, 199, 200, 201, 202, 203, 204, 205, 206, 207, 208, 209, 210, 211, 212, 213, 214, 215, 216, 217, 218, 219, 220, 221, 222, 223, 224, 225, 226, 227, 228, 229, 230, 231, 232, 233, 234, 235, 236, 237, 238, 239, 240, 241, 242, 243, 244, 245, 246, 247, 248, 249, 250, 251, 252, 253, 254, 255, 256, 257, 258, 259, 260, 261, 262, 263, 264, 265, 266, 267, 268, 269, 270, 271, 272, 273, 274, 275, 276, 277, 278, 279, 280, 281, 282, 283, 284, 285, 286, 287, 288, 289, 290, 291, 292, 293, 294, 295, 296, 297, 298, 299, 300], 57897)\n"
     ]
    }
   ],
   "source": [
    "def radix_sort_is(array, radix):\n",
    "    accessSum = 0\n",
    "    if len(array) == 0:\n",
    "        return array\n",
    "    \n",
    "    minValue = min(array)\n",
    "    maxValue = max(array)\n",
    "\n",
    "    # lsd\n",
    "    exponent = 1\n",
    "    while (maxValue - minValue) / exponent >= 1:\n",
    "        accessSum += insertion_subroutine_radix(array, 1, exponent, radix)\n",
    "        \n",
    "        exponent *= radix\n",
    "\n",
    "    return array, accessSum\n",
    "\n",
    "print(radix_sort_is(dataArrays[1], 10))"
   ]
  },
  {
   "cell_type": "markdown",
   "metadata": {},
   "source": [
    "## Merge Sort\n",
    "\n",
    "Merge sort works by recursively dividing the sequence into smaller\n",
    "subsequences until these subsequences are small enough to be sorted\n",
    "quickly. Merge sort, divides the sequence into two subsequnces until\n",
    "each subsequence's length is 1."
   ]
  },
  {
   "cell_type": "code",
   "execution_count": 195,
   "metadata": {},
   "outputs": [
    {
     "name": "stdout",
     "output_type": "stream",
     "text": [
      "([1, 2, 3, 4, 5, 6, 7, 8, 9, 10, 11, 12, 13, 14, 15, 16, 17, 18, 19, 20, 21, 22, 23, 24, 25, 26, 27, 28, 29, 30, 31, 32, 33, 34, 35, 36, 37, 38, 39, 40, 41, 42, 43, 44, 45, 46, 47, 48, 49, 50, 51, 52, 53, 54, 55, 56, 57, 58, 59, 60, 61, 62, 63, 64, 65, 66, 67, 68, 69, 70, 71, 72, 73, 74, 75, 76, 77, 78, 79, 80, 81, 82, 83, 84, 85, 86, 87, 88, 89, 90, 91, 92, 93, 94, 95, 96, 97, 98, 99, 100, 101, 102, 103, 104, 105, 106, 107, 108, 109, 110, 111, 112, 113, 114, 115, 116, 117, 118, 119, 120, 121, 122, 123, 124, 125, 126, 127, 128, 129, 130, 131, 132, 133, 134, 135, 136, 137, 138, 139, 140, 141, 142, 143, 144, 145, 146, 147, 148, 149, 150, 151, 152, 153, 154, 155, 156, 157, 158, 159, 160, 161, 162, 163, 164, 165, 166, 167, 168, 169, 170, 171, 172, 173, 174, 175, 176, 177, 178, 179, 180, 181, 182, 183, 184, 185, 186, 187, 188, 189, 190, 191, 192, 193, 194, 195, 196, 197, 198, 199, 200, 201, 202, 203, 204, 205, 206, 207, 208, 209, 210, 211, 212, 213, 214, 215, 216, 217, 218, 219, 220, 221, 222, 223, 224, 225, 226, 227, 228, 229, 230, 231, 232, 233, 234, 235, 236, 237, 238, 239, 240, 241, 242, 243, 244, 245, 246, 247, 248, 249, 250, 251, 252, 253, 254, 255, 256, 257, 258, 259, 260, 261, 262, 263, 264, 265, 266, 267, 268, 269, 270, 271, 272, 273, 274, 275, 276, 277, 278, 279, 280, 281, 282, 283, 284, 285, 286, 287, 288, 289, 290, 291, 292, 293, 294, 295, 296, 297, 298, 299, 300], 150)\n"
     ]
    }
   ],
   "source": [
    "dataArrays = initArrays()\n",
    "\n",
    "def merge_sort(data):\n",
    "    comparisons = 0\n",
    "    if len(data) > 1:\n",
    "        mid = len(data) // 2\n",
    "        left_half = data[:mid]\n",
    "        right_half = data[mid:]\n",
    "\n",
    "        merge_sort(left_half)\n",
    "        merge_sort(right_half)\n",
    "\n",
    "        i, j, k = 0, 0, 0\n",
    "\n",
    "        while i < len(left_half) and j < len(right_half):\n",
    "            if left_half[i] < right_half[j]:\n",
    "                data[k] = left_half[i]\n",
    "                i += 1\n",
    "                comparisons += 1\n",
    "            else:\n",
    "                data[k] = right_half[j]\n",
    "                j += 1\n",
    "                comparisons += 1\n",
    "            k += 1\n",
    "\n",
    "        while i < len(left_half):\n",
    "            data[k] = left_half[i]\n",
    "            i += 1\n",
    "            k += 1\n",
    "\n",
    "        while j < len(right_half):\n",
    "            data[k] = right_half[j]\n",
    "            j += 1\n",
    "            k += 1\n",
    "    \n",
    "    return data, comparisons\n",
    "\n",
    "\n",
    "print(merge_sort(dataArrays[0]))"
   ]
  },
  {
   "cell_type": "markdown",
   "metadata": {},
   "source": [
    "## Quick Sort\n",
    "\n",
    "Quicksort algorithm is another divide and conquer algorithm that also\n",
    "recursively divides the sequence into two subsequences. But unlike\n",
    "merge sort it doesn't divide the algorithm into two equal sized sequnces.\n",
    "It divides the algorithm based on a pivot element. This pivot element is\n",
    "selected from the sequence. It rearrages the sequence so that elements\n",
    "lesser than the pivot is placed to the left of the pivot and elements\n",
    "greater than the pivot is placed to the right of the pivot. Quicksort is\n",
    "then recursively called on each of the halves of the sequence (left\n",
    "subsequence and right subsequence)."
   ]
  },
  {
   "cell_type": "code",
   "execution_count": 196,
   "metadata": {},
   "outputs": [
    {
     "name": "stdout",
     "output_type": "stream",
     "text": [
      "36\n"
     ]
    }
   ],
   "source": [
    "dataArrays = initArrays()\n",
    "\n",
    "# def quick_sort(alist):\n",
    "#     comparisons = 0\n",
    "#     comparisons += quick_sort_helper(alist, 0, len(alist) - 1, comparisons)\n",
    "#     return comparisons\n",
    "\n",
    "\n",
    "# def quick_sort_helper(alist, first, last, comparisons):\n",
    "#     if first < last:\n",
    "#         returnList = partition(alist, first, last, comparisons)\n",
    "#         split_point = returnList[0]\n",
    "#         comparisons += returnList[1]\n",
    "        \n",
    "#         comparisons += quick_sort_helper(alist, first, split_point - 1, comparisons)\n",
    "#         comparisons += quick_sort_helper(alist, split_point + 1, last, comparisons)\n",
    "#     print(comparisons)\n",
    "#     return comparisons\n",
    "\n",
    "\n",
    "# def partition(alist, first, last, comparisons):\n",
    "#     pivot_value = alist[first]\n",
    "\n",
    "#     left_mark = first + 1\n",
    "#     right_mark = last\n",
    "\n",
    "#     done = False\n",
    "#     while not done:\n",
    "#         while left_mark <= right_mark and alist[left_mark] <= pivot_value:\n",
    "#             left_mark += 1\n",
    "\n",
    "#         while alist[right_mark] >= pivot_value and right_mark >= left_mark:\n",
    "#             right_mark -= 1\n",
    "\n",
    "#         if right_mark < left_mark:\n",
    "#             done = True\n",
    "#         else:\n",
    "#             tmp = alist[left_mark]\n",
    "#             alist[left_mark] = alist[right_mark]\n",
    "#             alist[right_mark] = tmp\n",
    "#             comparisons += 1\n",
    "\n",
    "#     tmp = alist[first]\n",
    "#     alist[first] = alist[right_mark]\n",
    "#     alist[right_mark] = tmp\n",
    "\n",
    "#     returnList = [right_mark, comparisons]\n",
    "#     return returnList\n",
    "\n",
    "def partition(data, start, end):\n",
    "    comparisonSum = 0\n",
    "    pos = start\n",
    "    for i in range(start, end):\n",
    "        comparisonSum += 1\n",
    "        if data[i] < data[end]:\n",
    "            data[i], data[pos] = data[pos], data[i]\n",
    "            pos += 1\n",
    "    data[pos], data[end] = data[end], data[pos]\n",
    "    return pos, comparisonSum\n",
    "\n",
    "def quick_sort_helper(data, start, end):\n",
    "    comparisonSum = 0\n",
    "    if start < end:\n",
    "        pos, comparisonSum = partition(data, start, end)        \n",
    "        comparisonSum += quick_sort_helper(data, start, pos - 1)\n",
    "        comparisonSum += quick_sort_helper(data, pos + 1, end)\n",
    "    return comparisonSum\n",
    "\n",
    "def quick_sort(data, start, end):\n",
    "    if start is None:\n",
    "        start = 0\n",
    "    if end is None:\n",
    "        end = len(data) - 1\n",
    "    return quick_sort_helper(data, start, end)\n",
    "\n",
    "print(quick_sort([1, 2, 3, 4, 5, 6, 7, 8, 9], None, None))"
   ]
  }
 ],
 "metadata": {
  "kernelspec": {
   "display_name": "Python 3",
   "language": "python",
   "name": "python3"
  },
  "language_info": {
   "codemirror_mode": {
    "name": "ipython",
    "version": 3
   },
   "file_extension": ".py",
   "mimetype": "text/x-python",
   "name": "python",
   "nbconvert_exporter": "python",
   "pygments_lexer": "ipython3",
   "version": "3.6.2"
  }
 },
 "nbformat": 4,
 "nbformat_minor": 2
}
