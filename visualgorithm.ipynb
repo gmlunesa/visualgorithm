{
 "cells": [
  {
   "cell_type": "markdown",
   "metadata": {},
   "source": [
    "# visualgorithm: a sorting machine problem\n",
    "---\n",
    "*submitted by Goldy Mariz Lunesa || [@gmlunesa](github.com/gmlunesa)*\n",
    "\n",
    "\n",
    "## O($n^{2}$)  algorithms\n",
    "\n",
    "Count the number of comparisons (selection vs bubble vs insertion)\n",
    "\n",
    "- Best case comparison (pre sorted sequences)\n",
    "\n",
    "- Worst case comparison (reverse sorted sequences)\n",
    "\n",
    "- Average case comparison (random numbers)\n",
    "\n",
    "### Selection Sort\n",
    "\n",
    "Selection sort works by finding the number in the first position of $A'$, $a′_{0}$ , which is eqivalent to the smallest number in $A$, min($A$). It then finds the number to be placed in the $a'_{1}$ which is eqivalent to the smallest number in $A$ excluding $a'_{0}$ which is equivalent to min($A$ − [$a'_{0}$]). The next number, $a'_{2}$ ( is equivalent to min($A$ − [$a'_{0}$, $a'_{1}$]). Selection sort does this until the value for $a'_{n}$ is found.\n"
   ]
  },
  {
   "cell_type": "code",
   "execution_count": null,
   "metadata": {},
   "outputs": [],
   "source": []
  },
  {
   "cell_type": "markdown",
   "metadata": {},
   "source": [
    "### Insertion Sort\n",
    "\n",
    "Insertion sort works by partially sorting the elements of the sequence. It\n",
    "starts by sorting the first 2 elements of the sequence, inserting the $a'_{1}$ to\n",
    "the first position if $a'_{1}$ < $a'_{0}$. It then sorts the first 3 elements of the\n",
    "sequence by inserting $a'_{2}$ to its correct spot in then sorted 2 elements. It\n",
    "then sorts the first 4 elements by inserting the $a'_{3}$ into its correct spot.\n",
    "The algorithm does this $n$ − 1 number of times.\n",
    "\n"
   ]
  },
  {
   "cell_type": "code",
   "execution_count": 26,
   "metadata": {},
   "outputs": [
    {
     "name": "stdout",
     "output_type": "stream",
     "text": [
      "Average Case: 20943\n",
      "Best Case: 0\n",
      "Worst Case:  44850\n"
     ]
    }
   ],
   "source": [
    "# Initialization of arrays, import data from text files\n",
    "with open('on2bestcase.txt') as file_bc:\n",
    "    insertion_bc = []\n",
    "    for line in file_bc:\n",
    "        insertion_bc.append(int(line))\n",
    "        \n",
    "with open('on2worstcase.txt') as file_wc:\n",
    "    insertion_wc = []\n",
    "    for line in file_wc:\n",
    "        insertion_wc.append(int(line))\n",
    "        \n",
    "with open('on2avgcase.txt') as file_ac:\n",
    "    insertion_ac = []\n",
    "    for line in file_ac:\n",
    "        insertion_ac.append(int(line))\n",
    "\n",
    "# Recursive implementation of insertion sort\n",
    "def insertion_sort(data):\n",
    "    count = 0\n",
    "    for index in range(1, len(data)):\n",
    "        while 0 < index and data[index] < data[index - 1]:\n",
    "            count += 1\n",
    "            data[index], data[\n",
    "                index - 1] = data[index - 1], data[index]\n",
    "            index -= 1\n",
    "\n",
    "    return count, data\n",
    "\n",
    "\n",
    "print(\"Average Case: %s\" % insertion_sort(insertion_ac)[0])\n",
    "print(\"Best Case: %s\" % insertion_sort(insertion_bc)[0])\n",
    "print(\"Worst Case:  %s\" % insertion_sort(insertion_wc)[0]) "
   ]
  }
 ],
 "metadata": {
  "kernelspec": {
   "display_name": "Python 3",
   "language": "python",
   "name": "python3"
  },
  "language_info": {
   "codemirror_mode": {
    "name": "ipython",
    "version": 3
   },
   "file_extension": ".py",
   "mimetype": "text/x-python",
   "name": "python",
   "nbconvert_exporter": "python",
   "pygments_lexer": "ipython3",
   "version": "3.6.3"
  }
 },
 "nbformat": 4,
 "nbformat_minor": 2
}
