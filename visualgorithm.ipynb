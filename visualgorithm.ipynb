{
 "cells": [
  {
   "cell_type": "markdown",
   "metadata": {},
   "source": [
    "# visualgorithm: a sorting machine problem\n",
    "---\n",
    "*submitted by Goldy Mariz Lunesa || [@gmlunesa](https://github.com/gmlunesa)*\n",
    "\n",
    "\n",
    "## O($n^{2}$)  algorithms\n",
    "\n",
    "Count the number of comparisons (selection vs bubble vs insertion)\n",
    "\n",
    "- Best case comparison (pre sorted sequences)\n",
    "\n",
    "- Worst case comparison (reverse sorted sequences)\n",
    "\n",
    "- Average case comparison (random numbers)\n",
    "\n",
    "### Selection Sort\n",
    "\n",
    "Selection sort works by finding the number in the first position of $A'$, $a'_{0}$, which is eqivalent to the smallest number in $A$, min($A$). It then finds the number to be placed in the $a'_{1}$ which is eqivalent to the smallest number in $A$ excluding $a'_{0}$ which is equivalent to min($A$ − [$a'_{0}$]). The next number, $a'_{2}$ ( is equivalent to min($A$ − [$a'_{0}$, $a'_{1}$]). Selection sort does this until the value for $a'_{n}$ is found.\n"
   ]
  },
  {
   "cell_type": "code",
   "execution_count": 328,
   "metadata": {
    "collapsed": true
   },
   "outputs": [],
   "source": [
    "def initArrays():\n",
    "    with open('on2bestcase.txt') as file_bc:\n",
    "        bestCaseArray = []\n",
    "        for line in file_bc:\n",
    "            bestCaseArray.append(int(line))\n",
    "        \n",
    "    with open('on2worstcase.txt') as file_wc:\n",
    "        worstCaseArray = []\n",
    "        for line in file_wc:\n",
    "            worstCaseArray.append(int(line))\n",
    "\n",
    "    with open('on2avgcase.txt') as file_ac:\n",
    "        avgCaseArray = []\n",
    "        for line in file_ac:\n",
    "            avgCaseArray.append(int(line))\n",
    "            \n",
    "    return bestCaseArray, worstCaseArray, avgCaseArray"
   ]
  },
  {
   "cell_type": "code",
   "execution_count": 329,
   "metadata": {
    "scrolled": true
   },
   "outputs": [
    {
     "name": "stdout",
     "output_type": "stream",
     "text": [
      "Best Case: %s 300\n",
      "Worst Case:  %s 300\n",
      "Average Case: %s 300\n"
     ]
    }
   ],
   "source": [
    "dataArrays = initArrays()\n",
    "\n",
    "def selection_sort(data):\n",
    "    count = 0\n",
    "    for index in range(len(data)):\n",
    "        min = index\n",
    "        count += 1\n",
    "        for scan in range(index + 1, len(data)):\n",
    "            if (data[scan] < data[min]):\n",
    "                min = scan\n",
    "        if min != index:\n",
    "            data[index], data[min] = data[min], data[index]\n",
    "    return count, data\n",
    "\n",
    "print(\"Best Case: %s\",  selection_sort(dataArrays[0])[0])\n",
    "print(\"Worst Case:  %s\", selection_sort(dataArrays[1])[0]) \n",
    "print(\"Average Case: %s\", selection_sort(dataArrays[2])[0])"
   ]
  },
  {
   "cell_type": "markdown",
   "metadata": {},
   "source": [
    "---\n",
    "### Insertion Sort\n",
    "\n",
    "Insertion sort works by partially sorting the elements of the sequence. It\n",
    "starts by sorting the first 2 elements of the sequence, inserting the $a '_{1}$ to\n",
    "the first position if $a '_{1}$ < $a '_{0}$. It then sorts the first 3 elements of the\n",
    "sequence by inserting $a '_{2}$ to its correct spot in then sorted 2 elements. It\n",
    "then sorts the first 4 elements by inserting the $a '_{3}$ into its correct spot.\n",
    "The algorithm does this $n$ − 1 number of times.\n",
    "\n"
   ]
  },
  {
   "cell_type": "code",
   "execution_count": 330,
   "metadata": {},
   "outputs": [
    {
     "name": "stdout",
     "output_type": "stream",
     "text": [
      "Best Case: 0\n",
      "Worst Case:  44850\n",
      "Average Case: 20943\n"
     ]
    }
   ],
   "source": [
    "dataArrays = initArrays()\n",
    "\n",
    "# Recursive implementation of insertion sort\n",
    "def insertion_sort(data):\n",
    "    count = 0\n",
    "    for index in range(1, len(data)):\n",
    "        while 0 < index and data[index] < data[index - 1]:\n",
    "            count += 1\n",
    "            data[index], data[\n",
    "                index - 1] = data[index - 1], data[index]\n",
    "            index -= 1\n",
    "\n",
    "    return count, data\n",
    "\n",
    "\n",
    "\n",
    "print(\"Best Case: %s\" % insertion_sort(dataArrays[0])[0])\n",
    "print(\"Worst Case:  %s\" % insertion_sort(dataArrays[1])[0]) \n",
    "print(\"Average Case: %s\" % insertion_sort(dataArrays[2])[0])"
   ]
  },
  {
   "cell_type": "markdown",
   "metadata": {},
   "source": [
    "---\n",
    "### Bubble Sort\n",
    "\n",
    "Bubble sort works by comparing every pair of adjacent elements, $a_{i}$ and\n",
    "$a_{i+1}$. If the elements are in the wrong order, (i.e. $a_{i}$ > $a_{i+1}$) the elements\n",
    "are swapped. The algorithm performs this until all elements are in their\n",
    "right position."
   ]
  },
  {
   "cell_type": "code",
   "execution_count": 331,
   "metadata": {},
   "outputs": [
    {
     "name": "stdout",
     "output_type": "stream",
     "text": [
      "Best Case: 299\n",
      "Worst Case:  89700\n",
      "Average Case: 83720\n"
     ]
    }
   ],
   "source": [
    "dataArrays = initArrays()\n",
    "\n",
    "def bubble_sort(data):\n",
    "    count = 0\n",
    "    while True:\n",
    "        swapped = False\n",
    "        for index in range(1, len(data)):\n",
    "            count += 1\n",
    "            if data[index-1] > data[index]:\n",
    "                data[index-1], data[index] = data[index], data[index-1]\n",
    "                swapped = True\n",
    "        if not swapped:\n",
    "            break\n",
    "    return count, data\n",
    "\n",
    "print(\"Best Case: %s\" % bubble_sort(dataArrays[0])[0])\n",
    "print(\"Worst Case:  %s\" % bubble_sort(dataArrays[1])[0]) \n",
    "print(\"Average Case: %s\" % bubble_sort(dataArrays[2])[0])\n"
   ]
  },
  {
   "cell_type": "markdown",
   "metadata": {},
   "source": [
    "## Shell Sort optimization\n",
    "\n",
    "\n",
    "### Shell Sort\n",
    "\n",
    "Shell sort is the generalization of either the insertion sort algorithm, (or\n",
    "the bubble sort algorithm, but almost always, insertion sort is the\n",
    "chosen subroutine as discussed in the previous section). This algorithm\n",
    "works by dividing the input sequence into $g$ interleaved subsequences\n",
    "where each element in the sublist is separated by some gap $g$. The\n",
    "algorithm individually sorts these subsequences using either insertion\n",
    "sort or bubble sort. After sorting the subsequence, the procedure\n",
    "repeats with a reduced value for $g$, decreasing the amount of\n",
    "subsequences. The algorithm stops after the algorithm is sorted with\n",
    "$g$ = 1 (normal insertion or bubble sort).\n",
    "\n",
    "#### Shell Sort with Insertion Sort subroutine"
   ]
  },
  {
   "cell_type": "code",
   "execution_count": 332,
   "metadata": {},
   "outputs": [
    {
     "name": "stdout",
     "output_type": "stream",
     "text": [
      "Presorted; Comparisons: 2104 ; Swaps: 0 ;\n",
      "Reverse sorted; Comparisons: 8926 ; Swaps: 6822 ;\n",
      "Random Order; Comparisons: 8795 ; Swaps: 6691 ;\n"
     ]
    }
   ],
   "source": [
    "dataArrays = initArrays()\n",
    "\n",
    "# In this Shell sort with insertion sort subroutine,\n",
    "# the gaps are determined by dividing the length of array by 2\n",
    "def shell_sort_is(data):\n",
    "    comparisons = 0\n",
    "    comparisonSumSS = 0\n",
    "    swapSumSS = 0\n",
    "    gap = len(data) // 2\n",
    "   \n",
    "    while gap > 0:\n",
    "        # Subroutine call\n",
    "        insertionSortResult = insertion_subroutine(data, gap)\n",
    "        comparisonSumSS = comparisonSumSS + insertionSortResult[1]\n",
    "        swapSumSS = swapSumSS + insertionSortResult[2]\n",
    "        \n",
    "        gap //= 2\n",
    "        \n",
    "    return data, comparisonSumSS, swapSumSS\n",
    "\n",
    "\n",
    "def insertion_subroutine(data, gap):\n",
    "    comparisons = 0\n",
    "    comparisonSumIS = 0\n",
    "    \n",
    "    swaps = 0\n",
    "    swapSumIS = 0\n",
    "    \n",
    "    for index in range(gap, len(data)):\n",
    "        comparisons = 0\n",
    "        swaps = 0;\n",
    "        \n",
    "        while 0 < index and data[index] < data[index - gap]:\n",
    "            comparisons += 1\n",
    "            # Do the swap!\n",
    "            data[index], data[\n",
    "                index - gap] = data[index - gap], data[index]\n",
    "            swaps += 1\n",
    "            index -= gap\n",
    "            \n",
    "        comparisons += 1\n",
    "        comparisonSumIS += comparisons\n",
    "        \n",
    "        swapSumIS += swaps\n",
    "       \n",
    "    return data, comparisonSumIS, swapSumIS\n",
    "\n",
    "presortedResultsSSIS = shell_sort_is(dataArrays[0]);\n",
    "reverseResultsSSIS = shell_sort_is(dataArrays[1]);\n",
    "randomResultsSSIS = shell_sort_is(dataArrays[2]);\n",
    "\n",
    "print(\"Presorted; Comparisons: %s ; Swaps: %s ;\" %(presortedResultsSSIS[1], presortedResultsSSIS[2]))\n",
    "print(\"Reverse sorted; Comparisons: %s ; Swaps: %s ;\" %(reverseResultsSSIS[1], reverseResultsSSIS[2]))\n",
    "print(\"Random Order; Comparisons: %s ; Swaps: %s ;\" %(randomResultsSSIS[1], randomResultsSSIS[2]))\n"
   ]
  },
  {
   "cell_type": "markdown",
   "metadata": {},
   "source": [
    "#### Shell Sort with Shell's Gap Sequence\n",
    "\n",
    "Donald Shell proposed a sequence that follows the formula FLOOR($\\frac{N}{2^k}$), published in his paper *A High-Speed Sorting Procedure*, published in 1959. In our test case, the generated sequence is [150, 75, 37, 18, 9, 4, 2, 1]."
   ]
  },
  {
   "cell_type": "code",
   "execution_count": 333,
   "metadata": {},
   "outputs": [
    {
     "name": "stdout",
     "output_type": "stream",
     "text": [
      "Presorted; Comparisons: 2104 ; Swaps: 0 ;\n",
      "Reverse sorted; Comparisons: 8926 ; Swaps: 6822 ;\n",
      "Random Order; Comparisons: 8795 ; Swaps: 6691 ;\n"
     ]
    }
   ],
   "source": [
    "dataArrays = initArrays();\n",
    "\n",
    "gapSequence =  [150, 75, 37, 18, 9, 4, 2, 1]\n",
    "\n",
    "def shell_sort_sgs(data):\n",
    "    comparisons = 0\n",
    "    comparisonSumSS = 0\n",
    "    swapSumSS = 0\n",
    "   \n",
    "    for gap in gapSequence:\n",
    "        # Subroutine call\n",
    "        insertionSortResult = insertion_subroutine(data, gap)\n",
    "        comparisonSumSS = comparisonSumSS + insertionSortResult[1]\n",
    "        swapSumSS = swapSumSS + insertionSortResult[2]\n",
    "        \n",
    "        gap //= 2\n",
    "        \n",
    "    return data, comparisonSumSS, swapSumSS\n",
    "\n",
    "\n",
    "presortedResultsSSShellGap = shell_sort_sgs(dataArrays[0]);\n",
    "reverseResultsSSShellGap = shell_sort_sgs(dataArrays[1]);\n",
    "randomResultsSSShellGap = shell_sort_sgs(dataArrays[2]);\n",
    "\n",
    "print(\"Presorted; Comparisons: %s ; Swaps: %s ;\" %(presortedResultsSSShellGap[1], presortedResultsSSShellGap[2]))\n",
    "print(\"Reverse sorted; Comparisons: %s ; Swaps: %s ;\" %(reverseResultsSSShellGap[1], reverseResultsSSShellGap[2]))\n",
    "print(\"Random Order; Comparisons: %s ; Swaps: %s ;\" %(randomResultsSSShellGap[1], randomResultsSSShellGap[2]))\n",
    "\n"
   ]
  }
 ],
 "metadata": {
  "kernelspec": {
   "display_name": "Python 3",
   "language": "python",
   "name": "python3"
  },
  "language_info": {
   "codemirror_mode": {
    "name": "ipython",
    "version": 3
   },
   "file_extension": ".py",
   "mimetype": "text/x-python",
   "name": "python",
   "nbconvert_exporter": "python",
   "pygments_lexer": "ipython3",
   "version": "3.6.2"
  }
 },
 "nbformat": 4,
 "nbformat_minor": 2
}
